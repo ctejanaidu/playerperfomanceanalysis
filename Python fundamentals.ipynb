{
 "cells": [
  {
   "cell_type": "code",
   "execution_count": 1,
   "id": "a7f762a9",
   "metadata": {},
   "outputs": [
    {
     "data": {
      "text/plain": [
       "140"
      ]
     },
     "execution_count": 1,
     "metadata": {},
     "output_type": "execute_result"
    }
   ],
   "source": [
    "x=86\n",
    "y=54\n",
    "x+y"
   ]
  },
  {
   "cell_type": "code",
   "execution_count": 3,
   "id": "bbf7b0f9",
   "metadata": {},
   "outputs": [],
   "source": [
    "a = 56\n",
    "b = 34\n",
    "c = 14"
   ]
  },
  {
   "cell_type": "code",
   "execution_count": 4,
   "id": "b3d4cb71",
   "metadata": {},
   "outputs": [
    {
     "data": {
      "text/plain": [
       "56"
      ]
     },
     "execution_count": 4,
     "metadata": {},
     "output_type": "execute_result"
    }
   ],
   "source": [
    "a"
   ]
  },
  {
   "cell_type": "code",
   "execution_count": 5,
   "id": "b09a3713",
   "metadata": {},
   "outputs": [
    {
     "data": {
      "text/plain": [
       "34"
      ]
     },
     "execution_count": 5,
     "metadata": {},
     "output_type": "execute_result"
    }
   ],
   "source": [
    "b"
   ]
  },
  {
   "cell_type": "code",
   "execution_count": 6,
   "id": "47b8cb90",
   "metadata": {},
   "outputs": [
    {
     "data": {
      "text/plain": [
       "14"
      ]
     },
     "execution_count": 6,
     "metadata": {},
     "output_type": "execute_result"
    }
   ],
   "source": [
    "c"
   ]
  },
  {
   "cell_type": "code",
   "execution_count": 7,
   "id": "c4549e25",
   "metadata": {},
   "outputs": [
    {
     "name": "stdout",
     "output_type": "stream",
     "text": [
      "<class 'int'>\n"
     ]
    }
   ],
   "source": [
    "print(type(a))"
   ]
  },
  {
   "cell_type": "code",
   "execution_count": 8,
   "id": "4b7ec8a8",
   "metadata": {},
   "outputs": [],
   "source": [
    "x = str(a)"
   ]
  },
  {
   "cell_type": "code",
   "execution_count": 10,
   "id": "aae671a7",
   "metadata": {},
   "outputs": [
    {
     "name": "stdout",
     "output_type": "stream",
     "text": [
      "<class 'str'>\n"
     ]
    }
   ],
   "source": [
    "print(type(x))"
   ]
  },
  {
   "cell_type": "code",
   "execution_count": 11,
   "id": "d25a2554",
   "metadata": {},
   "outputs": [
    {
     "name": "stdout",
     "output_type": "stream",
     "text": [
      "64.0\n"
     ]
    }
   ],
   "source": [
    "print(2*4**3/2)"
   ]
  },
  {
   "cell_type": "code",
   "execution_count": 13,
   "id": "b92dab0c",
   "metadata": {},
   "outputs": [
    {
     "ename": "SyntaxError",
     "evalue": "invalid syntax (3071972700.py, line 3)",
     "output_type": "error",
     "traceback": [
      "\u001b[1;36m  Input \u001b[1;32mIn [13]\u001b[1;36m\u001b[0m\n\u001b[1;33m    x=y+=5\u001b[0m\n\u001b[1;37m       ^\u001b[0m\n\u001b[1;31mSyntaxError\u001b[0m\u001b[1;31m:\u001b[0m invalid syntax\n"
     ]
    }
   ],
   "source": [
    "x=3\n",
    "y=4\n",
    "x=y+=5\n",
    "print(x)"
   ]
  },
  {
   "cell_type": "code",
   "execution_count": 15,
   "id": "9245a1ce",
   "metadata": {},
   "outputs": [],
   "source": [
    "f_name='Teja'\n",
    "age=22"
   ]
  },
  {
   "cell_type": "code",
   "execution_count": 17,
   "id": "f43af6e4",
   "metadata": {},
   "outputs": [
    {
     "name": "stdout",
     "output_type": "stream",
     "text": [
      "My name is Teja. I am 22 years old\n"
     ]
    }
   ],
   "source": [
    "print(f'My name is {f_name}. I am {age} years old')"
   ]
  },
  {
   "cell_type": "code",
   "execution_count": 20,
   "id": "ef198e8b",
   "metadata": {},
   "outputs": [
    {
     "name": "stdout",
     "output_type": "stream",
     "text": [
      "My name is 22. I am Teja years old\n"
     ]
    }
   ],
   "source": [
    "print('My name is {0}. I am {1} years old'.format(f_name,age))"
   ]
  },
  {
   "cell_type": "code",
   "execution_count": 21,
   "id": "3bccaca8",
   "metadata": {},
   "outputs": [
    {
     "name": "stdout",
     "output_type": "stream",
     "text": [
      "23\n"
     ]
    }
   ],
   "source": [
    "a= input()"
   ]
  },
  {
   "cell_type": "code",
   "execution_count": 2,
   "id": "c477345d",
   "metadata": {},
   "outputs": [
    {
     "data": {
      "text/plain": [
       "{'Ram': {'Maths': 75, 'English': 80, 'Science': 85},\n",
       " 'Shyam': {'Maths': 85, 'English': 90, 'Science': 75},\n",
       " 'Mohan': {'Maths': 80, 'English': 90, 'Science': 95}}"
      ]
     },
     "execution_count": 2,
     "metadata": {},
     "output_type": "execute_result"
    }
   ],
   "source": [
    "st_marks= {'Ram':{'Maths': 75,'English':80, 'Science':85},'Shyam':{'Maths': 85,'English':90, 'Science':75},'Mohan':{'Maths': 80,'English':90, 'Science':95}}\n",
    "st_marks"
   ]
  },
  {
   "cell_type": "code",
   "execution_count": 3,
   "id": "ae1d9e97",
   "metadata": {},
   "outputs": [
    {
     "data": {
      "text/plain": [
       "{'Maths': 80, 'English': 90, 'Science': 95}"
      ]
     },
     "execution_count": 3,
     "metadata": {},
     "output_type": "execute_result"
    }
   ],
   "source": [
    "st_marks['Mohan']"
   ]
  },
  {
   "cell_type": "code",
   "execution_count": 8,
   "id": "30edccbf",
   "metadata": {},
   "outputs": [
    {
     "data": {
      "text/plain": [
       "75"
      ]
     },
     "execution_count": 8,
     "metadata": {},
     "output_type": "execute_result"
    }
   ],
   "source": [
    "st_marks['Ram']['Maths']"
   ]
  },
  {
   "cell_type": "code",
   "execution_count": 9,
   "id": "87ea4783",
   "metadata": {},
   "outputs": [
    {
     "data": {
      "text/plain": [
       "{'Ram': {'Maths': 75, 'English': 80, 'Science': 85},\n",
       " 'Shyam': {'Maths': 85, 'English': 90, 'Science': 75},\n",
       " 'Mohan': {'Maths': 80, 'English': 90, 'Science': 95},\n",
       " 'Rohan': {'maths': 76, 'English': 90, 'Science': 87}}"
      ]
     },
     "execution_count": 9,
     "metadata": {},
     "output_type": "execute_result"
    }
   ],
   "source": [
    "st_marks['Rohan']={}\n",
    "st_marks['Rohan']['maths']=76\n",
    "st_marks['Rohan']['English']=90\n",
    "st_marks['Rohan']['Science']=87\n",
    "\n",
    "st_marks\n"
   ]
  },
  {
   "cell_type": "code",
   "execution_count": 11,
   "id": "9923d73b",
   "metadata": {},
   "outputs": [
    {
     "data": {
      "text/plain": [
       "76"
      ]
     },
     "execution_count": 11,
     "metadata": {},
     "output_type": "execute_result"
    }
   ],
   "source": [
    "st_marks['Rohan']['maths']"
   ]
  },
  {
   "cell_type": "code",
   "execution_count": 12,
   "id": "dedcb950",
   "metadata": {},
   "outputs": [
    {
     "name": "stdout",
     "output_type": "stream",
     "text": [
      "Name of the subject Ram\n",
      "Maths 75\n",
      "English 80\n",
      "Science 85\n",
      "Name of the subject Shyam\n",
      "Maths 85\n",
      "English 90\n",
      "Science 75\n",
      "Name of the subject Mohan\n",
      "Maths 80\n",
      "English 90\n",
      "Science 95\n",
      "Name of the subject Rohan\n",
      "maths 76\n",
      "English 90\n",
      "Science 87\n"
     ]
    }
   ],
   "source": [
    "for name,subjects in st_marks.items():\n",
    "    print('Name of the subject:',name)\n",
    "    for marks in subjects:\n",
    "        print(marks,subjects[marks])"
   ]
  },
  {
   "cell_type": "code",
   "execution_count": 13,
   "id": "9dd51b80",
   "metadata": {},
   "outputs": [],
   "source": [
    "##stacks\n"
   ]
  },
  {
   "cell_type": "code",
   "execution_count": 14,
   "id": "cd054e91",
   "metadata": {},
   "outputs": [
    {
     "data": {
      "text/plain": [
       "['a', 'b', 'c', 'd', 'e']"
      ]
     },
     "execution_count": 14,
     "metadata": {},
     "output_type": "execute_result"
    }
   ],
   "source": [
    "letters=[]\n",
    "letters.append('a')\n",
    "letters.append('b')\n",
    "letters.append('c')\n",
    "letters.append('d')\n",
    "letters.append('e')\n",
    "letters"
   ]
  },
  {
   "cell_type": "code",
   "execution_count": 15,
   "id": "bb21ae25",
   "metadata": {},
   "outputs": [
    {
     "data": {
      "text/plain": [
       "'e'"
      ]
     },
     "execution_count": 15,
     "metadata": {},
     "output_type": "execute_result"
    }
   ],
   "source": [
    "letters.pop()\n"
   ]
  },
  {
   "cell_type": "code",
   "execution_count": 16,
   "id": "34bda211",
   "metadata": {},
   "outputs": [
    {
     "data": {
      "text/plain": [
       "['a', 'b', 'c', 'd']"
      ]
     },
     "execution_count": 16,
     "metadata": {},
     "output_type": "execute_result"
    }
   ],
   "source": [
    "letters"
   ]
  },
  {
   "cell_type": "code",
   "execution_count": 17,
   "id": "e21c490b",
   "metadata": {},
   "outputs": [],
   "source": [
    "#queues"
   ]
  },
  {
   "cell_type": "code",
   "execution_count": 19,
   "id": "7992c019",
   "metadata": {},
   "outputs": [
    {
     "data": {
      "text/plain": [
       "['apple', 'banana', 'guava', 'mango']"
      ]
     },
     "execution_count": 19,
     "metadata": {},
     "output_type": "execute_result"
    }
   ],
   "source": [
    "fruits=[]\n",
    "fruits.append('apple')\n",
    "fruits.append('banana')\n",
    "fruits.append('guava')\n",
    "fruits.append('mango')\n",
    "fruits"
   ]
  },
  {
   "cell_type": "code",
   "execution_count": 20,
   "id": "f9773f5c",
   "metadata": {},
   "outputs": [
    {
     "data": {
      "text/plain": [
       "'apple'"
      ]
     },
     "execution_count": 20,
     "metadata": {},
     "output_type": "execute_result"
    }
   ],
   "source": [
    "fruits.pop(0)"
   ]
  },
  {
   "cell_type": "code",
   "execution_count": 21,
   "id": "2f7afb38",
   "metadata": {},
   "outputs": [
    {
     "data": {
      "text/plain": [
       "'banana'"
      ]
     },
     "execution_count": 21,
     "metadata": {},
     "output_type": "execute_result"
    }
   ],
   "source": [
    "fruits.pop(0)"
   ]
  },
  {
   "cell_type": "code",
   "execution_count": 22,
   "id": "7bd4703f",
   "metadata": {},
   "outputs": [
    {
     "data": {
      "text/plain": [
       "['guava', 'mango']"
      ]
     },
     "execution_count": 22,
     "metadata": {},
     "output_type": "execute_result"
    }
   ],
   "source": [
    "fruits"
   ]
  },
  {
   "cell_type": "code",
   "execution_count": 23,
   "id": "af71fc90",
   "metadata": {},
   "outputs": [],
   "source": [
    "#dequie"
   ]
  },
  {
   "cell_type": "code",
   "execution_count": 25,
   "id": "236138f3",
   "metadata": {},
   "outputs": [],
   "source": [
    "from collections import deque"
   ]
  },
  {
   "cell_type": "markdown",
   "id": "5fdbbde5",
   "metadata": {},
   "source": [
    "numbers=deque()\n",
    "numbers.append(23)\n",
    "numbers.append(32)\n",
    "numbers.append(45)\n",
    "numbers.append(56)\n",
    "numbers.append(47)\n",
    "numbers"
   ]
  },
  {
   "cell_type": "code",
   "execution_count": 26,
   "id": "91005aa1",
   "metadata": {},
   "outputs": [],
   "source": [
    "numbers=deque()"
   ]
  },
  {
   "cell_type": "code",
   "execution_count": 27,
   "id": "84fb2786",
   "metadata": {},
   "outputs": [
    {
     "data": {
      "text/plain": [
       "deque([23, 32, 45, 56, 47])"
      ]
     },
     "execution_count": 27,
     "metadata": {},
     "output_type": "execute_result"
    }
   ],
   "source": [
    "numbers.append(23) \n",
    "numbers.append(32)\n",
    "numbers.append(45)\n",
    "numbers.append(56)\n",
    "numbers.append(47)\n",
    "numbers"
   ]
  },
  {
   "cell_type": "code",
   "execution_count": 28,
   "id": "dcb08e10",
   "metadata": {},
   "outputs": [
    {
     "data": {
      "text/plain": [
       "47"
      ]
     },
     "execution_count": 28,
     "metadata": {},
     "output_type": "execute_result"
    }
   ],
   "source": [
    "numbers.pop()"
   ]
  },
  {
   "cell_type": "code",
   "execution_count": 29,
   "id": "43773dfd",
   "metadata": {},
   "outputs": [
    {
     "data": {
      "text/plain": [
       "56"
      ]
     },
     "execution_count": 29,
     "metadata": {},
     "output_type": "execute_result"
    }
   ],
   "source": [
    "numbers.pop()"
   ]
  },
  {
   "cell_type": "code",
   "execution_count": 30,
   "id": "b9ca5cbf",
   "metadata": {},
   "outputs": [
    {
     "data": {
      "text/plain": [
       "deque([23, 32, 45])"
      ]
     },
     "execution_count": 30,
     "metadata": {},
     "output_type": "execute_result"
    }
   ],
   "source": [
    "numbers"
   ]
  },
  {
   "cell_type": "code",
   "execution_count": 31,
   "id": "52d226c5",
   "metadata": {},
   "outputs": [],
   "source": [
    "names=deque()"
   ]
  },
  {
   "cell_type": "code",
   "execution_count": 32,
   "id": "b6c8d6ea",
   "metadata": {},
   "outputs": [
    {
     "data": {
      "text/plain": [
       "deque(['Teja', 'Naidu', 'Vamsi', 'Manoj'])"
      ]
     },
     "execution_count": 32,
     "metadata": {},
     "output_type": "execute_result"
    }
   ],
   "source": [
    "names.append('Teja')\n",
    "names.append('Naidu')\n",
    "names.append('Vamsi')\n",
    "names.append('Manoj')\n",
    "names"
   ]
  },
  {
   "cell_type": "code",
   "execution_count": 34,
   "id": "072dae1e",
   "metadata": {},
   "outputs": [
    {
     "data": {
      "text/plain": [
       "'Teja'"
      ]
     },
     "execution_count": 34,
     "metadata": {},
     "output_type": "execute_result"
    }
   ],
   "source": [
    "names.popleft()"
   ]
  },
  {
   "cell_type": "code",
   "execution_count": 35,
   "id": "ccbd275e",
   "metadata": {},
   "outputs": [
    {
     "data": {
      "text/plain": [
       "'Naidu'"
      ]
     },
     "execution_count": 35,
     "metadata": {},
     "output_type": "execute_result"
    }
   ],
   "source": [
    "names.popleft()"
   ]
  },
  {
   "cell_type": "code",
   "execution_count": 36,
   "id": "917b6fe6",
   "metadata": {},
   "outputs": [
    {
     "data": {
      "text/plain": [
       "deque(['Vamsi', 'Manoj'])"
      ]
     },
     "execution_count": 36,
     "metadata": {},
     "output_type": "execute_result"
    }
   ],
   "source": [
    "names"
   ]
  },
  {
   "cell_type": "code",
   "execution_count": null,
   "id": "23c254d8",
   "metadata": {},
   "outputs": [],
   "source": []
  }
 ],
 "metadata": {
  "kernelspec": {
   "display_name": "Python 3 (ipykernel)",
   "language": "python",
   "name": "python3"
  },
  "language_info": {
   "codemirror_mode": {
    "name": "ipython",
    "version": 3
   },
   "file_extension": ".py",
   "mimetype": "text/x-python",
   "name": "python",
   "nbconvert_exporter": "python",
   "pygments_lexer": "ipython3",
   "version": "3.9.10"
  }
 },
 "nbformat": 4,
 "nbformat_minor": 5
}
